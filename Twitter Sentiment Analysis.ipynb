{
 "cells": [
  {
   "cell_type": "code",
   "execution_count": 1,
   "id": "a804c199",
   "metadata": {},
   "outputs": [],
   "source": [
    "import pandas as pd\n",
    "import numpy as np\n",
    "import matplotlib.pyplot as plt \n",
    "import seaborn as sns\n",
    "\n",
    "import re \n",
    "import nltk\n",
    "import joblib\n",
    "from sklearn.feature_extraction.text import CountVectorizer\n",
    "from sklearn.metrics import confusion_matrix\n",
    "from nltk import word_tokenize\n",
    "from nltk.corpus import stopwords\n",
    "from nltk.stem import PorterStemmer\n",
    "from nltk.stem import WordNetLemmatizer\n",
    "from sklearn.preprocessing import Normalizer\n",
    "from scipy.sparse import hstack\n",
    "from sklearn.metrics import roc_curve, auc, f1_score, accuracy_score, precision_score, recall_score, roc_auc_score"
   ]
  },
  {
   "cell_type": "markdown",
   "id": "6bc26625",
   "metadata": {},
   "source": [
    "File descriptions\n",
    "\n",
    "train.csv - the training set\n",
    "\n",
    "test.csv - the test set\n",
    "\n",
    "Data fields\n",
    "\n",
    "ItemID - id of twit\n",
    "\n",
    "Sentiment - sentiment\n",
    "\n",
    "SentimentText - text of the twit\n",
    "\n",
    "\n",
    "0 - negative\n",
    "\n",
    "1 - positive"
   ]
  },
  {
   "cell_type": "markdown",
   "id": "49e021c2",
   "metadata": {},
   "source": [
    "### Reading Train and Test data"
   ]
  },
  {
   "cell_type": "code",
   "execution_count": 2,
   "id": "f61c112e",
   "metadata": {},
   "outputs": [],
   "source": [
    "X= pd.read_csv('train.csv')\n",
    "test= pd.read_csv('test.csv')"
   ]
  },
  {
   "cell_type": "code",
   "execution_count": 3,
   "id": "7f80feeb",
   "metadata": {},
   "outputs": [
    {
     "data": {
      "text/html": [
       "<div>\n",
       "<style scoped>\n",
       "    .dataframe tbody tr th:only-of-type {\n",
       "        vertical-align: middle;\n",
       "    }\n",
       "\n",
       "    .dataframe tbody tr th {\n",
       "        vertical-align: top;\n",
       "    }\n",
       "\n",
       "    .dataframe thead th {\n",
       "        text-align: right;\n",
       "    }\n",
       "</style>\n",
       "<table border=\"1\" class=\"dataframe\">\n",
       "  <thead>\n",
       "    <tr style=\"text-align: right;\">\n",
       "      <th></th>\n",
       "      <th>id</th>\n",
       "      <th>label</th>\n",
       "      <th>tweet</th>\n",
       "    </tr>\n",
       "  </thead>\n",
       "  <tbody>\n",
       "    <tr>\n",
       "      <th>0</th>\n",
       "      <td>1</td>\n",
       "      <td>0</td>\n",
       "      <td>@user when a father is dysfunctional and is s...</td>\n",
       "    </tr>\n",
       "    <tr>\n",
       "      <th>1</th>\n",
       "      <td>2</td>\n",
       "      <td>0</td>\n",
       "      <td>@user @user thanks for #lyft credit i can't us...</td>\n",
       "    </tr>\n",
       "    <tr>\n",
       "      <th>2</th>\n",
       "      <td>3</td>\n",
       "      <td>0</td>\n",
       "      <td>bihday your majesty</td>\n",
       "    </tr>\n",
       "    <tr>\n",
       "      <th>3</th>\n",
       "      <td>4</td>\n",
       "      <td>0</td>\n",
       "      <td>#model   i love u take with u all the time in ...</td>\n",
       "    </tr>\n",
       "    <tr>\n",
       "      <th>4</th>\n",
       "      <td>5</td>\n",
       "      <td>0</td>\n",
       "      <td>factsguide: society now    #motivation</td>\n",
       "    </tr>\n",
       "  </tbody>\n",
       "</table>\n",
       "</div>"
      ],
      "text/plain": [
       "   id  label                                              tweet\n",
       "0   1      0   @user when a father is dysfunctional and is s...\n",
       "1   2      0  @user @user thanks for #lyft credit i can't us...\n",
       "2   3      0                                bihday your majesty\n",
       "3   4      0  #model   i love u take with u all the time in ...\n",
       "4   5      0             factsguide: society now    #motivation"
      ]
     },
     "execution_count": 3,
     "metadata": {},
     "output_type": "execute_result"
    }
   ],
   "source": [
    "X.head()"
   ]
  },
  {
   "cell_type": "code",
   "execution_count": 4,
   "id": "e5ac6dd2",
   "metadata": {},
   "outputs": [
    {
     "data": {
      "text/html": [
       "<div>\n",
       "<style scoped>\n",
       "    .dataframe tbody tr th:only-of-type {\n",
       "        vertical-align: middle;\n",
       "    }\n",
       "\n",
       "    .dataframe tbody tr th {\n",
       "        vertical-align: top;\n",
       "    }\n",
       "\n",
       "    .dataframe thead th {\n",
       "        text-align: right;\n",
       "    }\n",
       "</style>\n",
       "<table border=\"1\" class=\"dataframe\">\n",
       "  <thead>\n",
       "    <tr style=\"text-align: right;\">\n",
       "      <th></th>\n",
       "      <th>id</th>\n",
       "      <th>tweet</th>\n",
       "    </tr>\n",
       "  </thead>\n",
       "  <tbody>\n",
       "    <tr>\n",
       "      <th>0</th>\n",
       "      <td>31963</td>\n",
       "      <td>#studiolife #aislife #requires #passion #dedic...</td>\n",
       "    </tr>\n",
       "    <tr>\n",
       "      <th>1</th>\n",
       "      <td>31964</td>\n",
       "      <td>@user #white #supremacists want everyone to s...</td>\n",
       "    </tr>\n",
       "    <tr>\n",
       "      <th>2</th>\n",
       "      <td>31965</td>\n",
       "      <td>safe ways to heal your #acne!!    #altwaystohe...</td>\n",
       "    </tr>\n",
       "    <tr>\n",
       "      <th>3</th>\n",
       "      <td>31966</td>\n",
       "      <td>is the hp and the cursed child book up for res...</td>\n",
       "    </tr>\n",
       "    <tr>\n",
       "      <th>4</th>\n",
       "      <td>31967</td>\n",
       "      <td>3rd #bihday to my amazing, hilarious #nephew...</td>\n",
       "    </tr>\n",
       "  </tbody>\n",
       "</table>\n",
       "</div>"
      ],
      "text/plain": [
       "      id                                              tweet\n",
       "0  31963  #studiolife #aislife #requires #passion #dedic...\n",
       "1  31964   @user #white #supremacists want everyone to s...\n",
       "2  31965  safe ways to heal your #acne!!    #altwaystohe...\n",
       "3  31966  is the hp and the cursed child book up for res...\n",
       "4  31967    3rd #bihday to my amazing, hilarious #nephew..."
      ]
     },
     "execution_count": 4,
     "metadata": {},
     "output_type": "execute_result"
    }
   ],
   "source": [
    "test.head()"
   ]
  },
  {
   "cell_type": "markdown",
   "id": "88021040",
   "metadata": {},
   "source": [
    "### Checking if there any null values present in data sets for both train and test "
   ]
  },
  {
   "cell_type": "code",
   "execution_count": 5,
   "id": "a9f6eda9",
   "metadata": {},
   "outputs": [
    {
     "data": {
      "text/plain": [
       "id       0\n",
       "label    0\n",
       "tweet    0\n",
       "dtype: int64"
      ]
     },
     "execution_count": 5,
     "metadata": {},
     "output_type": "execute_result"
    }
   ],
   "source": [
    "X.isnull().sum()"
   ]
  },
  {
   "cell_type": "code",
   "execution_count": 6,
   "id": "454935dc",
   "metadata": {},
   "outputs": [
    {
     "data": {
      "text/plain": [
       "id       0\n",
       "tweet    0\n",
       "dtype: int64"
      ]
     },
     "execution_count": 6,
     "metadata": {},
     "output_type": "execute_result"
    }
   ],
   "source": [
    "test.isnull().sum()"
   ]
  },
  {
   "cell_type": "markdown",
   "id": "03798416",
   "metadata": {},
   "source": [
    "### Counts of Class"
   ]
  },
  {
   "cell_type": "code",
   "execution_count": 7,
   "id": "d4601c04",
   "metadata": {},
   "outputs": [
    {
     "data": {
      "text/plain": [
       "[]"
      ]
     },
     "execution_count": 7,
     "metadata": {},
     "output_type": "execute_result"
    },
    {
     "data": {
      "image/png": "[encoded data removed]",
      "text/plain": [
       "<Figure size 576x432 with 1 Axes>"
      ]
     },
     "metadata": {
      "needs_background": "light"
     },
     "output_type": "display_data"
    }
   ],
   "source": [
    "em=dict(X['label'].value_counts())\n",
    "key= list(em.keys())\n",
    "val= list(em.values())\n",
    "plt.figure(figsize=(8,6))\n",
    "plt.bar(key,val,width=0.3)\n",
    "plt.xlabel('Labels/Emotions')\n",
    "plt.ylabel('Counts of Classes')\n",
    "plt.plot()"
   ]
  },
  {
   "cell_type": "markdown",
   "id": "a34174dc",
   "metadata": {},
   "source": [
    "### Plotting Histogram for string length in Tweet"
   ]
  },
  {
   "cell_type": "code",
   "execution_count": 8,
   "id": "69c01faf",
   "metadata": {},
   "outputs": [
    {
     "data": {
      "image/png": "[encoded data removed]",
      "text/plain": [
       "<Figure size 576x432 with 1 Axes>"
      ]
     },
     "metadata": {
      "needs_background": "light"
     },
     "output_type": "display_data"
    }
   ],
   "source": [
    "train_len = X['tweet'].str.len().plot.hist(color = 'blue', figsize = (8,6))\n",
    "test_len = test['tweet'].str.len().plot.hist(color = 'orange', figsize = (8,6))"
   ]
  },
  {
   "cell_type": "markdown",
   "id": "11dd91c1",
   "metadata": {},
   "source": [
    "### Plotting Histogram for Negative and Postive String length in Tweet"
   ]
  },
  {
   "cell_type": "code",
   "execution_count": 9,
   "id": "97f04643",
   "metadata": {},
   "outputs": [
    {
     "data": {
      "image/png": "[encoded data removed]",
      "text/plain": [
       "<Figure size 576x432 with 1 Axes>"
      ]
     },
     "metadata": {
      "needs_background": "light"
     },
     "output_type": "display_data"
    }
   ],
   "source": [
    "neg_train= X[X['label']==0]\n",
    "pos_train= X[X['label']==1]\n",
    "\n",
    "neg_len = neg_train['tweet'].str.len().plot.hist(color = 'blue', figsize = (8,6))\n",
    "pos_len = pos_train['tweet'].str.len().plot.hist(color = 'orange', figsize = (8,6))"
   ]
  },
  {
   "cell_type": "markdown",
   "id": "1fc251a6",
   "metadata": {},
   "source": [
    "### As we can observe that Positive tweets are mostly shorter than negative tweets, we are adding length of the string as feature(columns) in a dataset."
   ]
  },
  {
   "cell_type": "code",
   "execution_count": 10,
   "id": "cf461566",
   "metadata": {},
   "outputs": [],
   "source": [
    "#Adding String length as feature in dataset\n",
    "X['len'] = X['tweet'].str.len()\n",
    "test['len'] = test['tweet'].str.len()"
   ]
  },
  {
   "cell_type": "markdown",
   "id": "f204b557",
   "metadata": {},
   "source": [
    "### Counting most frequent Words occuring"
   ]
  },
  {
   "cell_type": "code",
   "execution_count": 11,
   "id": "ec6c9bf3",
   "metadata": {},
   "outputs": [
    {
     "data": {
      "text/plain": [
       "Text(0.5, 1.0, 'Most Frequently Occuring Words - Top 20')"
      ]
     },
     "execution_count": 11,
     "metadata": {},
     "output_type": "execute_result"
    },
    {
     "data": {
      "image/png": "[encoded data removed]",
      "text/plain": [
       "<Figure size 1080x504 with 1 Axes>"
      ]
     },
     "metadata": {
      "needs_background": "light"
     },
     "output_type": "display_data"
    }
   ],
   "source": [
    "cv = CountVectorizer(stop_words = 'english')\n",
    "words = cv.fit_transform(X.tweet)\n",
    "\n",
    "sum_words = words.sum(axis=0)\n",
    "\n",
    "words_freq = [(word, sum_words[0, i]) for word, i in cv.vocabulary_.items()]\n",
    "words_freq = sorted(words_freq, key = lambda x: x[1], reverse = True)\n",
    "\n",
    "frequency = pd.DataFrame(words_freq, columns=['word', 'freq'])\n",
    "\n",
    "frequency.head(20).plot(x='word', y='freq', kind='bar', figsize=(15, 7), color = 'blue')\n",
    "plt.title(\"Most Frequently Occuring Words - Top 20\")"
   ]
  },
  {
   "cell_type": "markdown",
   "id": "ae7bec18",
   "metadata": {},
   "source": [
    "### Cleaning Text by removing special symbol, punctuation, fixing word, lemmatizing and etc.."
   ]
  },
  {
   "cell_type": "code",
   "execution_count": 12,
   "id": "2fb288d4",
   "metadata": {},
   "outputs": [],
   "source": [
    "lm= WordNetLemmatizer()\n",
    "def data_cleaning(data):\n",
    "    #for i in range(len(data)):\n",
    "    text=[]\n",
    "    wrt= re.sub(r'@\\S+','',data) \n",
    "    hyp= re.sub(r\"-\", \" \", wrt)\n",
    "    sym= re.sub(r\"\\([^()$]*\\)\", \"\", hyp)\n",
    "    phrase=re.sub(r\"won't\",\"will not\",sym)\n",
    "    phrase=re.sub(r\"can't\",\"can not\",phrase)\n",
    "    phrase=re.sub(r\"couldn't\",\"could not\",phrase)\n",
    "    phrase=re.sub(r\"coz\",\"because\",phrase)\n",
    "    phrase=re.sub(r\"hasn't\",\"has not\",phrase)\n",
    "    phrase=re.sub(r\"don't\",\"do not\",phrase)\n",
    "    phrase=re.sub(r\"didn't\",\"did not\",phrase)\n",
    "    phrase=re.sub(r\"isn't\",\" is not\",phrase)\n",
    "    phrase=re.sub(r\"'re\",\" are\",phrase)\n",
    "    phrase=re.sub(r\"'d\",\" would\",phrase)\n",
    "    phrase=re.sub(r\"'ll\",\" will\",phrase)\n",
    "    phrase=re.sub(r\"'ve\",\" have\",phrase)\n",
    "    phrase=re.sub(r\"'m\",\" am\",phrase)\n",
    "    phrase=re.sub(r\"'s\",\" is\",phrase)\n",
    "    phrase= re.sub('[^A-Za-z]+', ' ',phrase)\n",
    "    word= phrase.split()\n",
    "    #print(word)\n",
    "    for i in word:\n",
    "        if len(i)>2:\n",
    "            text.append(lm.lemmatize(i))\n",
    "    #print(text)\n",
    "    return text"
   ]
  },
  {
   "cell_type": "code",
   "execution_count": 13,
   "id": "d071042a",
   "metadata": {},
   "outputs": [],
   "source": [
    "#Data cleaning for train dataset\n",
    "tweet_train= X['tweet']\n",
    "text_train=[]\n",
    "for i in range(len(tweet_train)):\n",
    "    dc= data_cleaning(tweet_train[i])\n",
    "    text_train.append(dc)"
   ]
  },
  {
   "cell_type": "code",
   "execution_count": 14,
   "id": "cf00bebb",
   "metadata": {},
   "outputs": [],
   "source": [
    "#Data Cleaning for test dataset\n",
    "tweet_test= test['tweet']\n",
    "text_test=[]\n",
    "for i in range(len(tweet_test)):\n",
    "    dc= data_cleaning(tweet_test[i])\n",
    "    text_test.append(dc)"
   ]
  },
  {
   "cell_type": "code",
   "execution_count": 15,
   "id": "fbca0763",
   "metadata": {},
   "outputs": [],
   "source": [
    "#Removing commas from text for each datapoint\n",
    "def pre_process(data):\n",
    "    text_list=[]\n",
    "    for i in data:\n",
    "        ll=','.join(map(str,i))\n",
    "        h=ll.replace(',',' ')\n",
    "        text_list.append(h)\n",
    "    return text_list\n",
    "\n",
    "pre_train= pre_process(text_train)\n",
    "pre_test= pre_process(text_test)"
   ]
  },
  {
   "cell_type": "markdown",
   "id": "63ae935f",
   "metadata": {},
   "source": [
    "#### Adding Preprocess Tweet to a dataset"
   ]
  },
  {
   "cell_type": "code",
   "execution_count": 16,
   "id": "353c5771",
   "metadata": {},
   "outputs": [],
   "source": [
    "X['preprocess_tweet']= pre_train\n",
    "test['preprocess_tweet']= pre_test"
   ]
  },
  {
   "cell_type": "code",
   "execution_count": 17,
   "id": "1389f781",
   "metadata": {},
   "outputs": [
    {
     "data": {
      "text/html": [
       "<div>\n",
       "<style scoped>\n",
       "    .dataframe tbody tr th:only-of-type {\n",
       "        vertical-align: middle;\n",
       "    }\n",
       "\n",
       "    .dataframe tbody tr th {\n",
       "        vertical-align: top;\n",
       "    }\n",
       "\n",
       "    .dataframe thead th {\n",
       "        text-align: right;\n",
       "    }\n",
       "</style>\n",
       "<table border=\"1\" class=\"dataframe\">\n",
       "  <thead>\n",
       "    <tr style=\"text-align: right;\">\n",
       "      <th></th>\n",
       "      <th>len</th>\n",
       "      <th>preprocess_tweet</th>\n",
       "    </tr>\n",
       "  </thead>\n",
       "  <tbody>\n",
       "    <tr>\n",
       "      <th>0</th>\n",
       "      <td>102</td>\n",
       "      <td>when father dysfunctional and selfish drag his...</td>\n",
       "    </tr>\n",
       "    <tr>\n",
       "      <th>1</th>\n",
       "      <td>122</td>\n",
       "      <td>thanks for lyft credit can not use cause they ...</td>\n",
       "    </tr>\n",
       "    <tr>\n",
       "      <th>2</th>\n",
       "      <td>21</td>\n",
       "      <td>bihday your majesty</td>\n",
       "    </tr>\n",
       "    <tr>\n",
       "      <th>3</th>\n",
       "      <td>86</td>\n",
       "      <td>model love take with all the time</td>\n",
       "    </tr>\n",
       "    <tr>\n",
       "      <th>4</th>\n",
       "      <td>39</td>\n",
       "      <td>factsguide society now motivation</td>\n",
       "    </tr>\n",
       "    <tr>\n",
       "      <th>...</th>\n",
       "      <td>...</td>\n",
       "      <td>...</td>\n",
       "    </tr>\n",
       "    <tr>\n",
       "      <th>31957</th>\n",
       "      <td>68</td>\n",
       "      <td>ate isz that youuu</td>\n",
       "    </tr>\n",
       "    <tr>\n",
       "      <th>31958</th>\n",
       "      <td>131</td>\n",
       "      <td>see nina turner the airwave trying wrap hersel...</td>\n",
       "    </tr>\n",
       "    <tr>\n",
       "      <th>31959</th>\n",
       "      <td>63</td>\n",
       "      <td>listening sad song monday morning otw work sad</td>\n",
       "    </tr>\n",
       "    <tr>\n",
       "      <th>31960</th>\n",
       "      <td>67</td>\n",
       "      <td>sikh temple vandalised calgary wso condemns act</td>\n",
       "    </tr>\n",
       "    <tr>\n",
       "      <th>31961</th>\n",
       "      <td>32</td>\n",
       "      <td>thank you for you follow</td>\n",
       "    </tr>\n",
       "  </tbody>\n",
       "</table>\n",
       "<p>31962 rows × 2 columns</p>\n",
       "</div>"
      ],
      "text/plain": [
       "       len                                   preprocess_tweet\n",
       "0      102  when father dysfunctional and selfish drag his...\n",
       "1      122  thanks for lyft credit can not use cause they ...\n",
       "2       21                                bihday your majesty\n",
       "3       86                  model love take with all the time\n",
       "4       39                  factsguide society now motivation\n",
       "...    ...                                                ...\n",
       "31957   68                                 ate isz that youuu\n",
       "31958  131  see nina turner the airwave trying wrap hersel...\n",
       "31959   63     listening sad song monday morning otw work sad\n",
       "31960   67    sikh temple vandalised calgary wso condemns act\n",
       "31961   32                           thank you for you follow\n",
       "\n",
       "[31962 rows x 2 columns]"
      ]
     },
     "execution_count": 17,
     "metadata": {},
     "output_type": "execute_result"
    }
   ],
   "source": [
    "#Creating Dataframe for Train and Test Split\n",
    "y= X['label']\n",
    "X_df= X.drop(['id','label','tweet'],axis=1)\n",
    "X_df"
   ]
  },
  {
   "cell_type": "code",
   "execution_count": 18,
   "id": "b863d5bf",
   "metadata": {},
   "outputs": [],
   "source": [
    "#Splitting data into Train and Test with 80:20\n",
    "from sklearn.model_selection import train_test_split\n",
    "X_train, X_test, y_train, y_test = train_test_split(X_df, y, test_size=0.20,stratify=y)"
   ]
  },
  {
   "cell_type": "markdown",
   "id": "8c07ca0d",
   "metadata": {},
   "source": [
    "### Data Preprocessing by Tf-Idf and Normalizing"
   ]
  },
  {
   "cell_type": "code",
   "execution_count": 19,
   "id": "eef9ac2f",
   "metadata": {},
   "outputs": [
    {
     "name": "stdout",
     "output_type": "stream",
     "text": [
      "(25569, 1)\n",
      "(6393, 1)\n"
     ]
    }
   ],
   "source": [
    "from sklearn.feature_extraction.text import TfidfVectorizer\n",
    "from sklearn import preprocessing\n",
    "from scipy.sparse import coo_matrix\n",
    "from scipy.sparse import csr_matrix\n",
    "import scipy.sparse\n",
    "# Applying Tf-IDF in datapoints\n",
    "tf_idf= TfidfVectorizer(max_features=10000)\n",
    "train_tweet= X_train['preprocess_tweet']\n",
    "test_tweet= X_test['preprocess_tweet']\n",
    "tf_idf.fit(train_tweet.values)\n",
    "x_train_tf= tf_idf.transform(train_tweet.values)\n",
    "x_test_tf= tf_idf.transform(test_tweet.values)\n",
    "\n",
    "norm= Normalizer()\n",
    "len_tr= X_train['len'].values\n",
    "len_te= X_test['len'].values\n",
    "tr= norm.fit(len_tr.reshape(-1,1))\n",
    "x_tr_len = tr.transform(len_tr.reshape(-1,1))\n",
    "x_te_len = tr.transform(len_te.reshape(-1,1))\n",
    "print(x_tr_len.shape)\n",
    "print(x_te_len.shape)"
   ]
  },
  {
   "cell_type": "code",
   "execution_count": 20,
   "id": "f62e847f",
   "metadata": {},
   "outputs": [],
   "source": [
    "X_tr = hstack((x_train_tf,x_tr_len)).tocsr()\n",
    "X_te = hstack((x_test_tf,x_te_len)).tocsr()"
   ]
  },
  {
   "cell_type": "markdown",
   "id": "2602645b",
   "metadata": {},
   "source": [
    "### Multinomial-Naive Bayes model"
   ]
  },
  {
   "cell_type": "markdown",
   "id": "8a6d55ec",
   "metadata": {},
   "source": [
    "#### Hyperparameter Tuning"
   ]
  },
  {
   "cell_type": "code",
   "execution_count": 21,
   "id": "e34e0af2",
   "metadata": {},
   "outputs": [
    {
     "data": {
      "text/plain": [
       "GridSearchCV(cv=3, estimator=MultinomialNB(class_prior=[0.5, 0.5]),\n",
       "             param_grid={'alpha': [0.01, 0.1, 0.2, 0.4, 0.5, 1]},\n",
       "             return_train_score=True, scoring='f1')"
      ]
     },
     "execution_count": 21,
     "metadata": {},
     "output_type": "execute_result"
    }
   ],
   "source": [
    "from sklearn.naive_bayes import MultinomialNB\n",
    "from sklearn.model_selection import GridSearchCV\n",
    "# Finding the best Hyper-parameter\n",
    "parameter = {'alpha':[0.01,0.1,0.2,0.4,0.5,1]}\n",
    "nb = MultinomialNB(class_prior=[0.5,0.5])\n",
    "clf = GridSearchCV(nb, parameter, cv=3,scoring='f1',return_train_score=True)\n",
    "clf.fit(X_tr,y_train)"
   ]
  },
  {
   "cell_type": "code",
   "execution_count": 22,
   "id": "54e08654",
   "metadata": {},
   "outputs": [
    {
     "name": "stdout",
     "output_type": "stream",
     "text": [
      "MultinomialNB(alpha=1, class_prior=[0.5, 0.5])\n",
      "Best Hyper-parameter: {'alpha': 1}\n"
     ]
    }
   ],
   "source": [
    "print(clf.best_estimator_)\n",
    "best_p= clf.best_params_\n",
    "print('Best Hyper-parameter:',clf.best_params_)"
   ]
  },
  {
   "cell_type": "code",
   "execution_count": 23,
   "id": "9e30e308",
   "metadata": {},
   "outputs": [],
   "source": [
    "nb_best= MultinomialNB(class_prior=[0.5,0.5],alpha= 1)"
   ]
  },
  {
   "cell_type": "code",
   "execution_count": 24,
   "id": "8774cbf9",
   "metadata": {},
   "outputs": [
    {
     "data": {
      "image/png": "[encoded data removed]",
      "text/plain": [
       "<Figure size 432x288 with 1 Axes>"
      ]
     },
     "metadata": {
      "needs_background": "light"
     },
     "output_type": "display_data"
    }
   ],
   "source": [
    "nb_best.fit(X_tr, y_train)\n",
    "model= joblib.dump(nb_best,'nb_model.pkl')\n",
    "y_score1 = nb_best.predict_proba(X_tr)[:,1]\n",
    "y_score2 = nb_best.predict_proba(X_te)[:,1]\n",
    "    \n",
    "train_fpr, train_tpr, tr_thresholds = roc_curve(y_train, y_score1)\n",
    "test_fpr, test_tpr, te_thresholds = roc_curve(y_test, y_score2)\n",
    "\n",
    "plt.plot(train_fpr, train_tpr, label=\"train AUC =\"+str(auc(train_fpr, train_tpr)))\n",
    "plt.plot(test_fpr, test_tpr, label=\"test AUC =\"+str(auc(test_fpr, test_tpr)))\n",
    "plt.legend()\n",
    "plt.xlabel(\"False Positive Rate(FPR)\")\n",
    "plt.ylabel(\"True Positive Rate(TPR)\")\n",
    "plt.title(\"ERROR PLOTS\")\n",
    "plt.grid(color='black', linestyle='-', linewidth=0.3)\n",
    "plt.show()"
   ]
  },
  {
   "cell_type": "code",
   "execution_count": 25,
   "id": "66711139",
   "metadata": {},
   "outputs": [
    {
     "data": {
      "image/png": "[encoded data removed]",
      "text/plain": [
       "<Figure size 432x288 with 2 Axes>"
      ]
     },
     "metadata": {
      "needs_background": "light"
     },
     "output_type": "display_data"
    },
    {
     "data": {
      "image/png": "[encoded data removed]",
      "text/plain": [
       "<Figure size 432x288 with 2 Axes>"
      ]
     },
     "metadata": {
      "needs_background": "light"
     },
     "output_type": "display_data"
    }
   ],
   "source": [
    "y_train_pred = nb_best.predict(X_tr)\n",
    "y_test_pred = nb_best.predict(X_te)\n",
    "cmtr= confusion_matrix(y_train_pred, y_train)\n",
    "sns.heatmap(cmtr,annot= True,fmt='0.1f',xticklabels=['PREDICTED : NO', 'PREDICTED : YES'], yticklabels=['ACTUAL : NO', 'ACTUAL : YES'])\n",
    "plt.title('Confusion Matrix for Train:')\n",
    "plt.show()\n",
    "cmte= confusion_matrix(y_test_pred, y_test)\n",
    "sns.heatmap(cmte,annot= True,fmt='0.1f',xticklabels=['PREDICTED : NO', 'PREDICTED : YES'], yticklabels=['ACTUAL : NO', 'ACTUAL : YES'])\n",
    "plt.title('Confusion Matrix for Test:')\n",
    "plt.show()"
   ]
  },
  {
   "cell_type": "code",
   "execution_count": 26,
   "id": "5bf925b3",
   "metadata": {},
   "outputs": [],
   "source": [
    "f1_train= f1_score(y_train,y_train_pred)\n",
    "f1_test= f1_score(y_test,y_test_pred)"
   ]
  },
  {
   "cell_type": "markdown",
   "id": "ed2ef5cc",
   "metadata": {},
   "source": [
    "### Calculating F1-Score"
   ]
  },
  {
   "cell_type": "code",
   "execution_count": 27,
   "id": "de676e9f",
   "metadata": {},
   "outputs": [
    {
     "name": "stdout",
     "output_type": "stream",
     "text": [
      "Train F1-Score:  0.6913518886679919\n",
      "Test F1-Score:  0.6417910447761194\n"
     ]
    }
   ],
   "source": [
    "print(\"Train F1-Score: \",f1_train)\n",
    "print(\"Test F1-Score: \",f1_test)"
   ]
  },
  {
   "cell_type": "code",
   "execution_count": 28,
   "id": "d46c7054",
   "metadata": {},
   "outputs": [],
   "source": [
    "model= joblib.load('nb_model.pkl')"
   ]
  },
  {
   "cell_type": "code",
   "execution_count": 29,
   "id": "fa034c0d",
   "metadata": {},
   "outputs": [
    {
     "name": "stdout",
     "output_type": "stream",
     "text": [
      "(17197, 10000)\n",
      "(17197, 1)\n"
     ]
    }
   ],
   "source": [
    "tf_idf= TfidfVectorizer(max_features=10000)\n",
    "test_tweet= test['preprocess_tweet']\n",
    "tf_idf.fit(test_tweet.values)\n",
    "x_test_tf= tf_idf.transform(test_tweet.values)\n",
    "print(x_test_tf.shape)\n",
    "\n",
    "norm= Normalizer()\n",
    "len_te= test['len'].values\n",
    "tr= norm.fit(len_te.reshape(-1,1))\n",
    "x_test_len = tr.transform(len_te.reshape(-1,1))\n",
    "print(x_test_len.shape)\n",
    "\n",
    "Test_Set = hstack((x_test_tf,x_test_len)).tocsr()"
   ]
  },
  {
   "cell_type": "code",
   "execution_count": 30,
   "id": "592e70c9",
   "metadata": {},
   "outputs": [],
   "source": [
    "test_predict= model.predict(Test_Set)"
   ]
  },
  {
   "cell_type": "code",
   "execution_count": 31,
   "id": "b5d13b00",
   "metadata": {},
   "outputs": [
    {
     "data": {
      "text/plain": [
       "array([1, 1, 1, ..., 1, 1, 1], dtype=int64)"
      ]
     },
     "execution_count": 31,
     "metadata": {},
     "output_type": "execute_result"
    }
   ],
   "source": [
    "test_predict"
   ]
  }
 ],
 "metadata": {
  "kernelspec": {
   "display_name": "Python 3 (ipykernel)",
   "language": "python",
   "name": "python3"
  },
  "language_info": {
   "codemirror_mode": {
    "name": "ipython",
    "version": 3
   },
   "file_extension": ".py",
   "mimetype": "text/x-python",
   "name": "python",
   "nbconvert_exporter": "python",
   "pygments_lexer": "ipython3",
   "version": "3.9.7"
  }
 },
 "nbformat": 4,
 "nbformat_minor": 5
}
